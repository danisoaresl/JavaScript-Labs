{
  "nbformat": 4,
  "nbformat_minor": 0,
  "metadata": {
    "colab": {
      "private_outputs": true,
      "provenance": [],
      "authorship_tag": "ABX9TyMGEGZGDOeALmoTrTLJwM07",
      "include_colab_link": true
    },
    "kernelspec": {
      "name": "python3",
      "display_name": "Python 3"
    },
    "language_info": {
      "name": "python"
    }
  },
  "cells": [
    {
      "cell_type": "markdown",
      "metadata": {
        "id": "view-in-github",
        "colab_type": "text"
      },
      "source": [
        "<a href=\"https://colab.research.google.com/github/danisoaresl/JavaScript-Mastery-Labs/blob/main/array_exercises.ipynb\" target=\"_parent\"><img src=\"https://colab.research.google.com/assets/colab-badge.svg\" alt=\"Open In Colab\"/></a>"
      ]
    },
    {
      "cell_type": "code",
      "execution_count": null,
      "metadata": {
        "id": "E_fMozj9-dDO"
      },
      "outputs": [],
      "source": [
        "array([[0.929269  , 0.47062252, 0.48752908],\n",
        "       [0.86457616, 0.88331107, 0.78861438],\n",
        "       [0.78518759, 0.16626102, 0.13029972],\n",
        "       [0.97393576, 0.25467472, 0.00914814]])\n",
        "\n",
        "\n",
        "\n"
      ]
    },
    {
      "cell_type": "markdown",
      "source": [
        "Valores inteiros em um intervalo específico:\n"
      ],
      "metadata": {
        "id": "PGjwVBGrCizQ"
      }
    },
    {
      "cell_type": "code",
      "source": [
        "array_aleatorio = np.random.randint(low=0, high=10, size=(4, 3))\n"
      ],
      "metadata": {
        "id": "qMlmZ70eCoEu"
      },
      "execution_count": null,
      "outputs": []
    },
    {
      "cell_type": "markdown",
      "source": [
        "Valores de uma distribuição normal (média 0 e desvio padrão 1):"
      ],
      "metadata": {
        "id": "Jzx7zNi3Cr-x"
      }
    },
    {
      "cell_type": "code",
      "source": [
        "array_aleatorio = np.random.randn(4, 3)\n"
      ],
      "metadata": {
        "id": "YhImk1RvCw7D"
      },
      "execution_count": null,
      "outputs": []
    },
    {
      "cell_type": "markdown",
      "source": [
        "Valores em um intervalo específico [a, b):"
      ],
      "metadata": {
        "id": "6QdzCFHyCz_9"
      }
    },
    {
      "cell_type": "code",
      "source": [
        "a, b = 5, 15\n",
        "array_aleatorio = a + (b - a) * np.random.rand(4, 3)\n"
      ],
      "metadata": {
        "id": "MjqXkHh4C3ox"
      },
      "execution_count": null,
      "outputs": []
    }
  ]
}