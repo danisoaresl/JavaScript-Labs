{
  "cells": [
    {
      "cell_type": "markdown",
      "metadata": {
        "id": "view-in-github",
        "colab_type": "text"
      },
      "source": [
        "<a href=\"https://colab.research.google.com/github/danisoaresl/JavaScript-Mastery-Labs/blob/logic_programming2/function_exercise.ipynb\" target=\"_parent\"><img src=\"https://colab.research.google.com/assets/colab-badge.svg\" alt=\"Open In Colab\"/></a>"
      ]
    },
    {
      "cell_type": "code",
      "execution_count": null,
      "metadata": {
        "id": "lIYdn1woOS1n"
      },
      "outputs": [],
      "source": []
    },
    {
      "cell_type": "markdown",
      "source": [
        "A pegadinha que deu errado\n",
        "\n",
        "Rafaela, estudante de programação, quis fazer uma brincadeira com sua amiga Bruna. Ela criou um programa que, ao ser aberto, exibe 9 alertas. Isso fará com que sua amiga clique 1 vez em cada um deles e fique entediada(9 vezes ao todo). Cada alerta é uma mensagem brincando com ela. Contudo, para fazer bonito, ela colocou as 9 instruções dentro de uma função que chamou fazPegadinha:"
      ],
      "metadata": {
        "id": "KRHSkGykgfsx"
      }
    },
    {
      "cell_type": "code",
      "source": [
        "<meta charset=\"UTF-8\">\n",
        "<script>\n",
        "    function fazPegadinha() {\n",
        "        alert(\"Olá\");\n",
        "        alert(\"amiga!\");\n",
        "        alert(\"Tá\");\n",
        "        alert(\"bastante\");\n",
        "        alert(\"entediada?\");\n",
        "        alert(\"Em ficar\");\n",
        "        alert(\"Clicando em\");\n",
        "        alert(\"Ok\");\n",
        "        alert(\"né?\");\n",
        "    }\n",
        "</script>"
      ],
      "metadata": {
        "id": "fNf5oSnxggiG"
      },
      "execution_count": null,
      "outputs": []
    },
    {
      "cell_type": "markdown",
      "source": [
        "Rafaela, ansiosa para ver a reação de sua amiga Bruna, ao ver o programa aberto ficou surpresa. Pois, nenhum dos nove alertas foi exibido na tela.\n",
        "\n",
        "Por que a armadilha de Rafaela não funcionou e como você consertaria o código dela para que os 9 alertas fossem exibidos?\n",
        "\n",
        "Assinale a alternativa que corresponde ao programa que apresenta o comportamento esperado.\n",
        "\n",
        "<meta charset=\"UTF-8\">\n",
        "<script>\n",
        "    function fazPegadinha() {\n",
        "        alert(\"Olá\");\n",
        "        alert(\"amiga!\");\n",
        "        alert(\"Tá\");\n",
        "        alert(\"bastante\");\n",
        "        alert(\"entediada?\");\n",
        "        alert(\"Em ficar\");\n",
        "        alert(\"Clicando em\");\n",
        "        alert(\"Ok\");\n",
        "        alert(\"né?\");\n",
        "    }\n",
        "\n",
        "    fazPegadinha();\n",
        "\n",
        "</script>"
      ],
      "metadata": {
        "id": "_Wgp6g4wgiQz"
      }
    },
    {
      "cell_type": "code",
      "source": [
        "<meta charset=\"UTF-8\">\n",
        "<script>\n",
        "    function fazPegadinha() {\n",
        "        alert(\"Olá\");\n",
        "        alert(\"amiga!\");\n",
        "        alert(\"Tá\");\n",
        "        alert(\"bastante\");\n",
        "        alert(\"entediada?\");\n",
        "        alert(\"Em ficar\");\n",
        "        alert(\"Clicando em\");\n",
        "        alert(\"Ok\");\n",
        "        alert(\"né?\");\n",
        "    }\n",
        "\n",
        "    fazPegadinha();\n",
        "\n",
        "</script>"
      ],
      "metadata": {
        "id": "k0vPuJ64hDyc"
      },
      "execution_count": null,
      "outputs": []
    },
    {
      "cell_type": "markdown",
      "source": [
        "Parabéns! Para que a função seja executada precisamos chamá-la! Logo após a declaração da função, usamos seu nome fazPegadinha seguido de (). Também utilizamos um ponto e vírgula ao final para indicar o fim da instrução. Quando declaramos uma função, todas as instruções dentro dela ficam guardadas e não são executadas. É como se uma função ficasse latente, esperando alguém chamá-la."
      ],
      "metadata": {
        "id": "9m4go2oThE7a"
      }
    }
  ],
  "metadata": {
    "colab": {
      "name": "scratchpad",
      "provenance": [],
      "include_colab_link": true
    },
    "kernelspec": {
      "display_name": "Python 3",
      "name": "python3"
    }
  },
  "nbformat": 4,
  "nbformat_minor": 0
}