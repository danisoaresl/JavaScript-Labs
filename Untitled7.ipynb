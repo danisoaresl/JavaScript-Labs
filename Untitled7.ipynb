{
  "nbformat": 4,
  "nbformat_minor": 0,
  "metadata": {
    "colab": {
      "private_outputs": true,
      "provenance": [],
      "authorship_tag": "ABX9TyOZZcwMC+mo1Mf5Dn8Q2kko",
      "include_colab_link": true
    },
    "kernelspec": {
      "name": "python3",
      "display_name": "Python 3"
    },
    "language_info": {
      "name": "python"
    }
  },
  "cells": [
    {
      "cell_type": "markdown",
      "metadata": {
        "id": "view-in-github",
        "colab_type": "text"
      },
      "source": [
        "<a href=\"https://colab.research.google.com/github/danisoaresl/JavaScript-Mastery-Labs/blob/main/Untitled7.ipynb\" target=\"_parent\"><img src=\"https://colab.research.google.com/assets/colab-badge.svg\" alt=\"Open In Colab\"/></a>"
      ]
    },
    {
      "cell_type": "code",
      "execution_count": null,
      "metadata": {
        "id": "WCzpsUMPrdz7"
      },
      "outputs": [],
      "source": []
    },
    {
      "cell_type": "markdown",
      "source": [
        "Aline está dando seus primeiros passos na programação utilizando o JavaScript e recentemente descobriu uma funcionalidade que achou fascinante: o operador ternário.\n",
        "\n",
        "Ela achou muito interessante a possibilidade que o operador traz para diminuir a quantidade de código escrito em algumas ocasiões e decidiu aplicar na prática, em um de seus projetos pessoais. No entanto, ao tentar fazer essa refatoração, acabou se esquecendo da sintaxe do operador ternário.\n",
        "\n",
        "Sabendo que você estudou sobre o operador recentemente, ela pediu sua ajuda e mostrou o código que pretende refatorar:"
      ],
      "metadata": {
        "id": "WGW8_HELrge8"
      }
    },
    {
      "cell_type": "code",
      "source": [
        "\n",
        "let palavraPessoa = \"\";\n",
        "\n",
        "if(quantidadePessoas == 1){\n",
        "    palavraPessoa = \"pessoa\";\n",
        "}else{\n",
        "    palavraPessoa = \"pessoas\"\n",
        "}\n"
      ],
      "metadata": {
        "id": "iFnXvSLErhqe"
      },
      "execution_count": null,
      "outputs": []
    },
    {
      "cell_type": "markdown",
      "source": [
        "Desafios finais\n",
        "Crie um programa que utilize o console.log para exibir uma mensagem de boas-vindas.\n",
        "\n",
        "Crie uma variável chamada \"nome\" e atribua a ela o seu nome. Em seguida, utilize o console.log para exibir a mensagem \"Olá, [seu nome]!\" no console do navegador.\n",
        "\n",
        "Crie uma variável chamada \"nome\" e atribua a ela o seu nome. Em seguida, utilize o alert para exibir a mensagem \"Olá, [seu nome]!\" .\n",
        "\n",
        "Utilize o prompt e faça a seguinte pergunta: Qual a linguagem de programação que você mais gosta?. Em seguida, armazene a resposta em uma variável e mostre no console do navegador.\n",
        "\n",
        "Crie uma variável chamada \"valor1\" e outra chamada \"valor2\", atribuindo a elas valores numéricos de sua escolha. Em seguida, realize a soma desses dois valores e armazene o resultado em uma terceira variável chamada \"resultado\". Utilize o console.log para mostrar a mensagem \"A soma de [valor1] e [valor2] é igual a [resultado].\" no console.\n",
        "\n",
        "Crie uma variável chamada \"valor1\" e outra chamada \"valor2\", atribuindo a elas valores numéricos de sua escolha. Em seguida, realize a subtração desses dois valores e armazene o resultado em uma terceira variável chamada \"resultado\". Utilize o console.log para mostrar a mensagem \"A diferença entre [valor1] e [valor2] é igual a [resultado].\" no console.\n",
        "\n",
        "Peça ao usuário para inserir sua idade com prompt. Com base na idade inserida, utilize um if para verificar se a pessoa é maior ou menor de idade, exibindo uma mensagem apropriada no console.\n",
        "\n",
        "Crie uma variável \"numero\" e peça um valor com prompt verifique se é positivo, negativo ou zero. Use if-else para imprimir a respectiva mensagem.\n",
        "\n",
        "Use um loop while para imprimir os números de 1 a 10 no console.\n",
        "\n",
        "Crie uma variável \"nota\" e atribua um valor numérico a ela. Use if-else para determinar se a nota é maior ou igual a 7 e exiba \"Aprovado\" ou \"Reprovado\" no console.\n",
        "\n",
        "Use o Math.random para gerar qualquer número aleatório e exiba esse número no console.\n",
        "\n",
        "Use o Math.random para gerar um número inteiro entre 1 e 10 e exiba esse número no console.\n",
        "\n",
        "Use o Math.random para gerar um número inteiro entre 1 e 1000 e exiba esse número no console.\n",
        "\n"
      ],
      "metadata": {
        "id": "uvJkLZGLs-nu"
      }
    },
    {
      "cell_type": "markdown",
      "source": [],
      "metadata": {
        "id": "9SYFRItmtAkR"
      }
    },
    {
      "cell_type": "code",
      "source": [
        "// Exibir uma mensagem de boas-vindas no console\n",
        "console.log(\"Bem-vindo!\");\n",
        "\n",
        "// Exibir uma mensagem de saudação usando o alert\n",
        "var nome = \"SeuNome\";\n",
        "alert(\"Olá, \" + nome + \"!\");\n",
        "\n",
        "// Pedir ao usuário para inserir sua linguagem de programação favorita\n",
        "var linguagem = prompt(\"Qual a linguagem de programação que você mais gosta?\");\n",
        "console.log(\"Sua linguagem de programação favorita é: \" + linguagem);\n",
        "\n",
        "// Realizar a soma de dois valores\n",
        "var valor1 = 10;\n",
        "var valor2 = 5;\n",
        "var resultadoSoma = valor1 + valor2;\n",
        "console.log(\"A soma de \" + valor1 + \" e \" + valor2 + \" é igual a \" + resultadoSoma + \".\");\n",
        "\n",
        "// Realizar a subtração de dois valores\n",
        "var resultadoSubtracao = valor1 - valor2;\n",
        "console.log(\"A diferença entre \" + valor1 + \" e \" + valor2 + \" é igual a \" + resultadoSubtracao + \".\");\n",
        "\n",
        "// Verificar se o usuário é maior ou menor de idade\n",
        "var idade = prompt(\"Qual é a sua idade?\");\n",
        "if (idade >= 18) {\n",
        "    console.log(\"Você é maior de idade.\");\n",
        "} else {\n",
        "    console.log(\"Você é menor de idade.\");\n",
        "}\n",
        "\n",
        "// Verificar se um número é positivo, negativo ou zero\n",
        "var numero = prompt(\"Digite um número:\");\n",
        "if (numero > 0) {\n",
        "    console.log(\"O número é positivo.\");\n",
        "} else if (numero < 0) {\n",
        "    console.log(\"O número é negativo.\");\n",
        "} else {\n",
        "    console.log(\"O número é zero.\");\n",
        "}\n",
        "\n",
        "// Imprimir números de 1 a 10 usando um loop while\n",
        "var contador = 1;\n",
        "while (contador <= 10) {\n",
        "    console.log(contador);\n",
        "    contador++;\n",
        "}\n",
        "\n",
        "// Determinar se uma nota é aprovada ou reprovada\n",
        "var nota = parseFloat(prompt(\"Digite a sua nota:\"));\n",
        "if (nota >= 7) {\n",
        "    console.log(\"Aprovado\");\n",
        "} else {\n",
        "    console.log(\"Reprovado\");\n",
        "}\n",
        "\n",
        "// Gerar um número aleatório entre 0 e 1 e exibir no console\n",
        "var numeroAleatorio = Math.random();\n",
        "console.log(\"Número aleatório entre 0 e 1: \" + numeroAleatorio);\n",
        "\n",
        "// Gerar um número inteiro entre 1 e 10 e exibir no console\n",
        "var numeroInteiro1a10 = Math.floor(Math.random() * 10) + 1;\n",
        "console.log(\"Número inteiro entre 1 e 10: \" + numeroInteiro1a10);\n",
        "\n",
        "// Gerar um número inteiro entre 1 e 1000 e exibir no console\n",
        "var numeroInteiro1a1000 = Math.floor(Math.random() * 1000) + 1;\n",
        "console.log(\"Número inteiro entre 1 e 1000: \" + numeroInteiro1a1000);\n"
      ],
      "metadata": {
        "id": "49MLj9mytAzj"
      },
      "execution_count": null,
      "outputs": []
    }
  ]
}