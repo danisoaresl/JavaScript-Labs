{
  "cells": [
    {
      "cell_type": "markdown",
      "metadata": {
        "id": "view-in-github",
        "colab_type": "text"
      },
      "source": [
        "<a href=\"https://colab.research.google.com/github/danisoaresl/JavaScript-Mastery-Labs/blob/logic_programming2/function_adds_two_numbers.ipynb\" target=\"_parent\"><img src=\"https://colab.research.google.com/assets/colab-badge.svg\" alt=\"Open In Colab\"/></a>"
      ]
    },
    {
      "cell_type": "code",
      "execution_count": null,
      "metadata": {
        "id": "lIYdn1woOS1n"
      },
      "outputs": [],
      "source": []
    },
    {
      "cell_type": "markdown",
      "source": [
        "Helena teve a ideia de criar a função somaDoisNumeros. Esta função precisa receber dois parâmetros e imprimir como resultado a soma desses dois números.\n",
        "\n"
      ],
      "metadata": {
        "id": "SjW-57Y5lf91"
      }
    },
    {
      "cell_type": "code",
      "source": [
        "<meta charset=\"UTF-8\">\n",
        "\n",
        "<script>\n",
        "\n",
        "    function pulaLinha() {\n",
        "        document.write(\"<br>\");\n",
        "    }\n",
        "\n",
        "    function mostra(frase) {\n",
        "        document.write(frase);\n",
        "        pulaLinha();\n",
        "    }\n",
        "\n",
        "    function somaDoisNumeros(numero1, numero2) {\n",
        "        mostra(\"A soma dos dois números é : \" + (numero1 + numero2) );\n",
        "    }\n",
        "\n",
        "    somaDoisNumeros(10, 40);\n",
        "</script>"
      ],
      "metadata": {
        "id": "vK35WyPjlg-_"
      },
      "execution_count": null,
      "outputs": []
    },
    {
      "cell_type": "markdown",
      "source": [
        "O importante aqui é entender que se a função esta preparada para receber dois parâmetros, na hora que ela for chamada precisamos passar dois parâmetros. É claro, como já vimos, na declaração da função, podemos escolher qualquer nome para os parâmetros, mas precisamos usar esses nomes no bloco da função."
      ],
      "metadata": {
        "id": "lM74tTJKlu7V"
      }
    }
  ],
  "metadata": {
    "colab": {
      "name": "scratchpad",
      "provenance": [],
      "include_colab_link": true
    },
    "kernelspec": {
      "display_name": "Python 3",
      "name": "python3"
    }
  },
  "nbformat": 4,
  "nbformat_minor": 0
}