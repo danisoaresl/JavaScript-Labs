{
  "nbformat": 4,
  "nbformat_minor": 0,
  "metadata": {
    "colab": {
      "private_outputs": true,
      "provenance": [],
      "authorship_tag": "ABX9TyNzZ223X6ZxXaife7NiAFIk",
      "include_colab_link": true
    },
    "kernelspec": {
      "name": "python3",
      "display_name": "Python 3"
    },
    "language_info": {
      "name": "python"
    }
  },
  "cells": [
    {
      "cell_type": "markdown",
      "metadata": {
        "id": "view-in-github",
        "colab_type": "text"
      },
      "source": [
        "<a href=\"https://colab.research.google.com/github/danisoaresl/JavaScript-Mastery-Labs/blob/main/desafios1ao3.ipynb\" target=\"_parent\"><img src=\"https://colab.research.google.com/assets/colab-badge.svg\" alt=\"Open In Colab\"/></a>"
      ]
    },
    {
      "cell_type": "code",
      "execution_count": null,
      "metadata": {
        "id": "Els8pvzCh5Vq"
      },
      "outputs": [],
      "source": [
        "Desafios\n",
        "Crie uma função que calcule o índice de massa corporal (IMC) de uma pessoa, a partir de sua altura, em metros, e peso, em quilogramas, que serão recebidos como parâmetro."
      ]
    },
    {
      "cell_type": "code",
      "source": [
        "def calcular_imc(peso, altura):\n",
        "    \"\"\"\n",
        "    Calcula o Índice de Massa Corporal (IMC).\n",
        "\n",
        "    Args:\n",
        "    peso (float): O peso da pessoa em quilogramas.\n",
        "    altura (float): A altura da pessoa em metros.\n",
        "\n",
        "    Returns:\n",
        "    float: O IMC calculado.\n",
        "    \"\"\"\n",
        "    if altura <= 0:\n",
        "        raise ValueError(\"A altura deve ser maior que zero.\")\n",
        "    if peso <= 0:\n",
        "        raise ValueError(\"O peso deve ser maior que zero.\")\n",
        "\n",
        "    imc = peso / (altura ** 2)\n",
        "    return imc\n",
        "\n",
        "# Exemplo de uso\n",
        "peso = 70  # kg\n",
        "altura = 1.75  # m\n",
        "\n",
        "imc = calcular_imc(peso, altura)\n",
        "print(f\"O IMC é: {imc:.2f}\")\n"
      ],
      "metadata": {
        "id": "rJhrn3yUimv3"
      },
      "execution_count": null,
      "outputs": []
    },
    {
      "cell_type": "markdown",
      "source": [
        "Crie uma função que calcule o valor do fatorial de um número passado como parâmetro.\n",
        "\n"
      ],
      "metadata": {
        "id": "AIjHaolyjBJX"
      }
    },
    {
      "cell_type": "code",
      "source": [
        "def calcular_fatorial(n):\n",
        "    \"\"\"\n",
        "    Calcula o fatorial de um número.\n",
        "\n",
        "    Args:\n",
        "    n (int): O número para o qual se deseja calcular o fatorial.\n",
        "\n",
        "    Returns:\n",
        "    int: O valor do fatorial de n.\n",
        "    \"\"\"\n",
        "    if not isinstance(n, int) or n < 0:\n",
        "        raise ValueError(\"O valor deve ser um inteiro não negativo.\")\n",
        "\n",
        "    fatorial = 1\n",
        "    for i in range(1, n + 1):\n",
        "        fatorial *= i\n",
        "\n",
        "    return fatorial\n",
        "\n",
        "# Exemplo de uso\n",
        "numero = 5\n",
        "fatorial = calcular_fatorial(numero)\n",
        "print(f\"O fatorial de {numero} é: {fatorial}\")\n"
      ],
      "metadata": {
        "id": "mz_tTRUQjDax"
      },
      "execution_count": null,
      "outputs": []
    },
    {
      "cell_type": "markdown",
      "source": [],
      "metadata": {
        "id": "6sg_PFppijb7"
      }
    },
    {
      "cell_type": "markdown",
      "source": [
        "Crie uma função que converte um valor em dólar, passado como parâmetro, e retorna o valor equivalente em reais. Para isso, considere a cotação do dólar igual a R$4,80."
      ],
      "metadata": {
        "id": "VROyoKESjKsA"
      }
    },
    {
      "cell_type": "code",
      "source": [
        "def converter_dolar_para_reais(valor_em_dolar):\n",
        "    \"\"\"\n",
        "    Converte um valor em dólar para reais, considerando a cotação de R$4,80 por dólar.\n",
        "\n",
        "    Args:\n",
        "        valor_em_dolar (float): O valor em dólar a ser convertido para reais.\n",
        "\n",
        "    Returns:\n",
        "        float: O valor equivalente em reais.\n",
        "    \"\"\"\n",
        "    cotacao_dolar = 4.80  # Cotação fixa do dólar em reais\n",
        "    valor_em_reais = valor_em_dolar * cotacao_dolar\n",
        "    return valor_em_reais\n"
      ],
      "metadata": {
        "id": "lIx981FglrRP"
      },
      "execution_count": null,
      "outputs": []
    }
  ]
}