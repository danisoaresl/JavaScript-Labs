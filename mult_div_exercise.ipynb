{
  "nbformat": 4,
  "nbformat_minor": 0,
  "metadata": {
    "colab": {
      "private_outputs": true,
      "provenance": [],
      "authorship_tag": "ABX9TyNjkNgY/4SKoI+d9UvO4NcY",
      "include_colab_link": true
    },
    "kernelspec": {
      "name": "python3",
      "display_name": "Python 3"
    },
    "language_info": {
      "name": "python"
    }
  },
  "cells": [
    {
      "cell_type": "markdown",
      "metadata": {
        "id": "view-in-github",
        "colab_type": "text"
      },
      "source": [
        "<a href=\"https://colab.research.google.com/github/danisoaresl/JavaScript-Mastery-Labs/blob/logic_programming2/mult_div_exercise.ipynb\" target=\"_parent\"><img src=\"https://colab.research.google.com/assets/colab-badge.svg\" alt=\"Open In Colab\"/></a>"
      ]
    },
    {
      "cell_type": "code",
      "execution_count": null,
      "metadata": {
        "id": "W01Go7r8_dgC"
      },
      "outputs": [],
      "source": []
    },
    {
      "cell_type": "markdown",
      "source": [],
      "metadata": {
        "id": "oIgCncQ3_eKA"
      }
    },
    {
      "cell_type": "markdown",
      "source": [
        "Rafaela, aspirante à carreira de programadora, criou um pequeno programa para saber qual é sua porcentagem de acertos em uma prova de 50 questões de múltipla escolha. O cálculo matemático comporta dividir a quantidade de acertos pelo total de questões e multiplicar o resultado final por 100.\n",
        "\n",
        "Rafaela acertou 15 questões e quer saber o percentual de acertos.\n",
        "\n",
        "Seu código inicial é:"
      ],
      "metadata": {
        "id": "SHBa7Y0I_gdG"
      }
    },
    {
      "cell_type": "code",
      "source": [
        "<meta charset=\"UTF-8\">\n",
        "<script>\n",
        "    document.write(\"Eu acertei: \");\n",
        "</script>"
      ],
      "metadata": {
        "id": "riHDQs1r_lPF"
      },
      "execution_count": null,
      "outputs": []
    },
    {
      "cell_type": "markdown",
      "source": [
        "Como você pode complementar o código de Rafaela para que seu cálculo funcione corretamente?\n",
        "\n",
        "Alternativa correta\n"
      ],
      "metadata": {
        "id": "dzhE9gg8_ts4"
      }
    },
    {
      "cell_type": "code",
      "source": [
        "<meta charset=\"UTF-8\">\n",
        "<script>\n",
        "    document.write(\"Eu acertei: \" + 15/50*100 + \"%\" );\n",
        "</script>"
      ],
      "metadata": {
        "id": "Yg5Xvr9R_uvI"
      },
      "execution_count": null,
      "outputs": []
    },
    {
      "cell_type": "markdown",
      "source": [
        "O resultado exibido é: Eu acertei: 30%.\n",
        "\n",
        "Observe, não é necessário colocar entre parênteses a operação, o JavaScript primeiro avalia a divisão, depois a multiplicação e depois realiza o processo de concatenação. É como se ele avaliasse o cálculo e depois voltasse a processar, da esquerda para direita, concatenando texto com número ."
      ],
      "metadata": {
        "id": "WefV_5YO_12q"
      }
    },
    {
      "cell_type": "code",
      "source": [],
      "metadata": {
        "id": "98SVnLuF_qIl"
      },
      "execution_count": null,
      "outputs": []
    }
  ]
}