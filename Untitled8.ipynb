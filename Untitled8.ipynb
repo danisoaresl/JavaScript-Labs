{
  "nbformat": 4,
  "nbformat_minor": 0,
  "metadata": {
    "colab": {
      "private_outputs": true,
      "provenance": [],
      "authorship_tag": "ABX9TyPB7FF3ugPNHNrNMHbZwWHY",
      "include_colab_link": true
    },
    "kernelspec": {
      "name": "python3",
      "display_name": "Python 3"
    },
    "language_info": {
      "name": "python"
    }
  },
  "cells": [
    {
      "cell_type": "markdown",
      "metadata": {
        "id": "view-in-github",
        "colab_type": "text"
      },
      "source": [
        "<a href=\"https://colab.research.google.com/github/danisoaresl/JavaScript-Mastery-Labs/blob/main/Untitled8.ipynb\" target=\"_parent\"><img src=\"https://colab.research.google.com/assets/colab-badge.svg\" alt=\"Open In Colab\"/></a>"
      ]
    },
    {
      "cell_type": "code",
      "execution_count": null,
      "metadata": {
        "id": "FTNpLr_Rz9Tt"
      },
      "outputs": [],
      "source": [
        "alert('Boas vindas ao jogo do número secreto');\n",
        "let numeroSecreto = parseInt(Math.random() * 100 + 1);\n",
        "console.log(numeroSecreto);\n",
        "let chute;\n",
        "let tentativas = 1;\n",
        "\n",
        "// enquanto chute não for igual ao n.s.\n",
        "while (chute != numeroSecreto) {\n",
        "    chute = prompt('Escolha um número entre 1 e 100');\n",
        "    // se chute for igual ao número secreto\n",
        "    if (chute == numeroSecreto) {\n",
        "        break;\n",
        "    } else {\n",
        "        if (chute > numeroSecreto) {\n",
        "            alert(`O número secreto é menor que ${chute}`);\n",
        "        } else {\n",
        "            alert(`O número secreto é maior que ${chute}`);\n",
        "        }\n",
        "        // tentativas = tentativas + 1;\n",
        "        tentativas++;\n",
        "    }\n",
        "}\n",
        "\n",
        "let palavraTentativa = tentativas > 1 ? 'tentativas' : 'tentativa';\n",
        "alert(`Isso ai! Você descobriu o número secreto ${numeroSecreto} com ${tentativas} ${palavraTentativa}.`);\n",
        "\n",
        "// if (tentativas > 1) {\n",
        "//     alert(`Isso ai! Você descobriu o número secreto ${numeroSecreto} com ${tentativas} tentativas.`);\n",
        "// } else {\n",
        "//     alert(`Isso ai! Você descobriu o número secreto ${numeroSecreto} com ${tentativas} tentativa.`);\n",
        "// }\n"
      ]
    }
  ]
}