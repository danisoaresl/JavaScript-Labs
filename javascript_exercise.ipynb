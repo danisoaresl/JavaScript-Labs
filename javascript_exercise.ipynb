{
  "nbformat": 4,
  "nbformat_minor": 0,
  "metadata": {
    "colab": {
      "private_outputs": true,
      "provenance": [],
      "authorship_tag": "ABX9TyOZomkmpFaUsw8f8TcnWXfi",
      "include_colab_link": true
    },
    "kernelspec": {
      "name": "python3",
      "display_name": "Python 3"
    },
    "language_info": {
      "name": "python"
    }
  },
  "cells": [
    {
      "cell_type": "markdown",
      "metadata": {
        "id": "view-in-github",
        "colab_type": "text"
      },
      "source": [
        "<a href=\"https://colab.research.google.com/github/danisoaresl/JavaScript-Mastery-Labs/blob/logic_programming2/javascript_exercise.ipynb\" target=\"_parent\"><img src=\"https://colab.research.google.com/assets/colab-badge.svg\" alt=\"Open In Colab\"/></a>"
      ]
    },
    {
      "cell_type": "code",
      "execution_count": null,
      "metadata": {
        "id": "dZKi7g6T7Kn2"
      },
      "outputs": [],
      "source": []
    },
    {
      "cell_type": "markdown",
      "source": [
        "Robson criou o programa calculando_meu_gasto.html. A intenção do programa é somar o gasto de quatro viagens realizadas e calcular a média a fim de ter uma ideia aproximada de gastos para a próxima viagem. Para calcular a média aritmética ele precisa somar o valor de todas as viagens e dividir o total pela quantidade de viagens."
      ],
      "metadata": {
        "id": "SlQeExrq7TYk"
      }
    },
    {
      "cell_type": "code",
      "source": [
        "<meta charset=\"UTF-8\">\n",
        "<script>\n",
        "    document.write(200 + 100 + 300 + 400/4);\n",
        "</script>"
      ],
      "metadata": {
        "id": "6bFScUHI7USl"
      },
      "execution_count": null,
      "outputs": []
    },
    {
      "cell_type": "markdown",
      "source": [
        "Contudo, o programa, segundo ele, estava \"louco\" pois exibia na tela o valor 700, ou seja, um valor muito maior do que o gasto em cada mês.\n",
        "\n",
        "Por que o programa apresenta um número tão acima do esperado? Crie um arquivo novo, o calculando_meu_gasto.html, e altere o programa de Robson para que ele calcule a média corretamente!"
      ],
      "metadata": {
        "id": "8uljRRr17ccQ"
      }
    },
    {
      "cell_type": "code",
      "source": [
        "<meta charset=\"UTF-8\">\n",
        "<script>\n",
        "    document.write( (200 + 100 + 300 + 400) / 4);\n",
        "</script>"
      ],
      "metadata": {
        "id": "BO2sKYCZ7h2P"
      },
      "execution_count": null,
      "outputs": []
    },
    {
      "cell_type": "markdown",
      "source": [
        "Na matemática, operações de divisão e multiplicação são realizadas primeiro. O mesmo ocorre no universo da programação e esse fenômeno denomina-se Precedência entre operadores! Sendo assim, o programa primeiro realizará a divisão 400/4 e o resultado disso é que será somado com o valor dos demais meses. Para resolver a situação, assim como na matemática, vamos usar parênteses para que a operação contida dentro deles seja primeiramente avaliada. Dessa maneira, a primeira operação realizada será a soma (200 + 100 + 300 + 400) para que só então o resultado seja dividido por 4. O resultado correto deve ser 250."
      ],
      "metadata": {
        "id": "Rnb_YCNB8B3L"
      }
    }
  ]
}