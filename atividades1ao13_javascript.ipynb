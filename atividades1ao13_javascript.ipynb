{
  "nbformat": 4,
  "nbformat_minor": 0,
  "metadata": {
    "colab": {
      "private_outputs": true,
      "provenance": [],
      "authorship_tag": "ABX9TyNZNOHlJsuidL1sslcQmdzE",
      "include_colab_link": true
    },
    "kernelspec": {
      "name": "python3",
      "display_name": "Python 3"
    },
    "language_info": {
      "name": "python"
    }
  },
  "cells": [
    {
      "cell_type": "markdown",
      "metadata": {
        "id": "view-in-github",
        "colab_type": "text"
      },
      "source": [
        "<a href=\"https://colab.research.google.com/github/danisoaresl/JavaScript-Mastery-Labs/blob/main/atividades1ao13_javascript.ipynb\" target=\"_parent\"><img src=\"https://colab.research.google.com/assets/colab-badge.svg\" alt=\"Open In Colab\"/></a>"
      ]
    },
    {
      "cell_type": "code",
      "execution_count": null,
      "metadata": {
        "id": "xYnMVn8RuUS_"
      },
      "outputs": [],
      "source": [
        "// Exibir uma mensagem de boas-vindas no console\n",
        "console.log(\"Bem-vindo!\");\n",
        "\n",
        "\n",
        "\n",
        "\n",
        "\n",
        "\n",
        "\n",
        "\n",
        "\n",
        "\n",
        "\n",
        "\n",
        "\n",
        "\n",
        "\n",
        "\n",
        "\n",
        "\n",
        "\n",
        "\n"
      ]
    },
    {
      "cell_type": "code",
      "source": [
        "// Exibir uma mensagem de saudação usando o alert\n",
        "var nome = \"SeuNome\";\n",
        "alert(\"Olá, \" + nome + \"!\");"
      ],
      "metadata": {
        "id": "WHwFMeUM0ZWi"
      },
      "execution_count": null,
      "outputs": []
    },
    {
      "cell_type": "code",
      "source": [
        "// Pedir ao usuário para inserir sua linguagem de programação favorita\n",
        "var linguagem = prompt(\"Qual a linguagem de programação que você mais gosta?\");\n",
        "console.log(\"Sua linguagem de programação favorita é: \" + linguagem);"
      ],
      "metadata": {
        "id": "GOyMh2ns0yJa"
      },
      "execution_count": null,
      "outputs": []
    },
    {
      "cell_type": "code",
      "source": [
        "// Realizar a soma de dois valores\n",
        "var valor1 = 10;\n",
        "var valor2 = 5;\n",
        "var resultadoSoma = valor1 + valor2;\n",
        "console.log(\"A soma de \" + valor1 + \" e \" + valor2 + \" é igual a \" + resultadoSoma + \".\");"
      ],
      "metadata": {
        "id": "ce0L96H-0yop"
      },
      "execution_count": null,
      "outputs": []
    },
    {
      "cell_type": "code",
      "source": [
        "// Realizar a subtração de dois valores\n",
        "var resultadoSubtracao = valor1 - valor2;\n",
        "console.log(\"A diferença entre \" + valor1 + \" e \" + valor2 + \" é igual a \" + resultadoSubtracao + \".\");"
      ],
      "metadata": {
        "id": "IrPlUV5u0y3J"
      },
      "execution_count": null,
      "outputs": []
    },
    {
      "cell_type": "code",
      "source": [
        "// Verificar se o usuário é maior ou menor de idade\n",
        "var idade = prompt(\"Qual é a sua idade?\");\n",
        "if (idade >= 18) {\n",
        "    console.log(\"Você é maior de idade.\");\n",
        "} else {\n",
        "    console.log(\"Você é menor de idade.\");\n",
        "}"
      ],
      "metadata": {
        "id": "da5Y4AKk0y_d"
      },
      "execution_count": null,
      "outputs": []
    },
    {
      "cell_type": "code",
      "source": [
        "// Verificar se um número é positivo, negativo ou zero\n",
        "var numero = prompt(\"Digite um número:\");\n",
        "if (numero > 0) {\n",
        "    console.log(\"O número é positivo.\");\n",
        "} else if (numero < 0) {\n",
        "    console.log(\"O número é negativo.\");\n",
        "} else {\n",
        "    console.log(\"O número é zero.\");\n",
        "}\n"
      ],
      "metadata": {
        "id": "NbuWsJTf0zFX"
      },
      "execution_count": null,
      "outputs": []
    },
    {
      "cell_type": "code",
      "source": [
        "// Imprimir números de 1 a 10 usando um loop while\n",
        "var contador = 1;\n",
        "while (contador <= 10) {\n",
        "    console.log(contador);\n",
        "    contador++;\n",
        "}"
      ],
      "metadata": {
        "id": "xNUXO6W70zIm"
      },
      "execution_count": null,
      "outputs": []
    },
    {
      "cell_type": "code",
      "source": [
        "// Determinar se uma nota é aprovada ou reprovada\n",
        "var nota = parseFloat(prompt(\"Digite a sua nota:\"));\n",
        "if (nota >= 7) {\n",
        "    console.log(\"Aprovado\");\n",
        "} else {\n",
        "    console.log(\"Reprovado\");\n",
        "}"
      ],
      "metadata": {
        "id": "o6pxM29e0zLd"
      },
      "execution_count": null,
      "outputs": []
    },
    {
      "cell_type": "code",
      "source": [
        "// Gerar um número aleatório entre 0 e 1 e exibir no console\n",
        "var numeroAleatorio = Math.random();\n",
        "console.log(\"Número aleatório entre 0 e 1: \" + numeroAleatorio);"
      ],
      "metadata": {
        "id": "1W_CnkTW0zOS"
      },
      "execution_count": null,
      "outputs": []
    },
    {
      "cell_type": "code",
      "source": [
        "// Gerar um número inteiro entre 1 e 10 e exibir no console\n",
        "var numeroInteiro1a10 = Math.floor(Math.random() * 10) + 1;\n",
        "console.log(\"Número inteiro entre 1 e 10: \" + numeroInteiro1a10);"
      ],
      "metadata": {
        "id": "OF_9i9nE0zRS"
      },
      "execution_count": null,
      "outputs": []
    },
    {
      "cell_type": "code",
      "source": [
        "// Gerar um número inteiro entre 1 e 1000 e exibir no console\n",
        "var numeroInteiro1a1000 = Math.floor(Math.random() * 1000) + 1;\n",
        "console.log(\"Número inteiro entre 1 e 1000: \" + numeroInteiro1a1000);"
      ],
      "metadata": {
        "id": "K3vfgNUB0Wbg"
      },
      "execution_count": null,
      "outputs": []
    }
  ]
}