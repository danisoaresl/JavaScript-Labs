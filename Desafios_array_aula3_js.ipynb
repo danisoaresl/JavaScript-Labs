{
  "nbformat": 4,
  "nbformat_minor": 0,
  "metadata": {
    "colab": {
      "private_outputs": true,
      "provenance": [],
      "authorship_tag": "ABX9TyPitaTjhAX09+s9EWSm6Iuf",
      "include_colab_link": true
    },
    "kernelspec": {
      "name": "python3",
      "display_name": "Python 3"
    },
    "language_info": {
      "name": "python"
    }
  },
  "cells": [
    {
      "cell_type": "markdown",
      "metadata": {
        "id": "view-in-github",
        "colab_type": "text"
      },
      "source": [
        "<a href=\"https://colab.research.google.com/github/danisoaresl/JavaScript-Mastery-Labs/blob/curso2/Desafios_array_aula3_js.ipynb\" target=\"_parent\"><img src=\"https://colab.research.google.com/assets/colab-badge.svg\" alt=\"Open In Colab\"/></a>"
      ]
    },
    {
      "cell_type": "code",
      "execution_count": null,
      "metadata": {
        "id": "NAsX5y2W6B1W"
      },
      "outputs": [],
      "source": []
    },
    {
      "cell_type": "markdown",
      "source": [
        "Desafios\n",
        "Crie uma lista vazia, com o nome listaGenerica."
      ],
      "metadata": {
        "id": "u1X8pk826HDf"
      }
    },
    {
      "cell_type": "code",
      "source": [
        "listaGenerica = []\n"
      ],
      "metadata": {
        "id": "9nBgSr3q6MNC"
      },
      "execution_count": null,
      "outputs": []
    },
    {
      "cell_type": "markdown",
      "source": [
        "Crie uma lista de linguagens de programação chamada linguagensDeProgramacao com os seguintes elementos: 'JavaScript','C','C++', 'Kotlin' e 'Python'."
      ],
      "metadata": {
        "id": "Q-urH9eZ6Q9J"
      }
    },
    {
      "cell_type": "code",
      "source": [
        "linguagensDeProgramacao = ['JavaScript', 'C', 'C++', 'Kotlin', 'Python']\n"
      ],
      "metadata": {
        "id": "rmoQsYd_6XK0"
      },
      "execution_count": null,
      "outputs": []
    },
    {
      "cell_type": "markdown",
      "source": [
        "Adicione à lista linguagensDeProgramacao os seguintes elementos: 'Java', 'Ruby' e 'GoLang'."
      ],
      "metadata": {
        "id": "n3hva1Jx6bG8"
      }
    },
    {
      "cell_type": "code",
      "source": [
        "linguagensDeProgramacao.append('Java')\n",
        "linguagensDeProgramacao.append('Ruby')\n",
        "linguagensDeProgramacao.append('GoLang')\n"
      ],
      "metadata": {
        "id": "DjKblE7j6eaX"
      },
      "execution_count": null,
      "outputs": []
    },
    {
      "cell_type": "markdown",
      "source": [
        "Crie uma lista com 3 nomes e exiba no console apenas o primeiro elemento."
      ],
      "metadata": {
        "id": "oMFs2PJ96m-E"
      }
    },
    {
      "cell_type": "code",
      "source": [
        "nomes = ['Fulano', 'Sicrano', 'Beltrano']\n",
        "print(nomes[0])\n"
      ],
      "metadata": {
        "id": "PqQV-Nus6re3"
      },
      "execution_count": null,
      "outputs": []
    },
    {
      "cell_type": "markdown",
      "source": [
        "Crie uma lista com 3 nomes e exiba no console apenas o segundo elemento."
      ],
      "metadata": {
        "id": "Nhuou9Mf62mi"
      }
    },
    {
      "cell_type": "code",
      "source": [
        "nomes = ['Fulano', 'Sicrano', 'Beltrano']\n",
        "print(nomes[1])\n"
      ],
      "metadata": {
        "id": "q0peL7TR7OUm"
      },
      "execution_count": null,
      "outputs": []
    },
    {
      "cell_type": "markdown",
      "source": [
        "Crie uma lista com 3 nomes e exiba no console apenas o último elemento."
      ],
      "metadata": {
        "id": "UAOIgqx47Tkq"
      }
    },
    {
      "cell_type": "code",
      "source": [
        "nomes = ['Fulano', 'Sicrano', 'Beltrano']\n",
        "print(nomes[-1])\n"
      ],
      "metadata": {
        "id": "8RyAJBMH7XUc"
      },
      "execution_count": null,
      "outputs": []
    }
  ]
}