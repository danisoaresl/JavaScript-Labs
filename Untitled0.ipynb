{
  "nbformat": 4,
  "nbformat_minor": 0,
  "metadata": {
    "colab": {
      "provenance": [],
      "authorship_tag": "ABX9TyMpX25eATKLDV1AOgHBNlhb",
      "include_colab_link": true
    },
    "kernelspec": {
      "name": "python3",
      "display_name": "Python 3"
    },
    "language_info": {
      "name": "python"
    }
  },
  "cells": [
    {
      "cell_type": "markdown",
      "metadata": {
        "id": "view-in-github",
        "colab_type": "text"
      },
      "source": [
        "<a href=\"https://colab.research.google.com/github/danisoaresl/JavaScript-Mastery-Labs/blob/main/Untitled0.ipynb\" target=\"_parent\"><img src=\"https://colab.research.google.com/assets/colab-badge.svg\" alt=\"Open In Colab\"/></a>"
      ]
    },
    {
      "cell_type": "code",
      "execution_count": null,
      "metadata": {
        "id": "fY0vT1U4ix8J"
      },
      "outputs": [],
      "source": []
    },
    {
      "cell_type": "markdown",
      "source": [
        "Qual código JavaScript você usaria para alterar o texto exibido no cabeçalho da sua página (elemento h1) para Bem-vindo ao mundo dev?\n",
        "edit\n",
        "Mostrar rascunhos\n",
        "volume_up\n",
        "\n",
        "Alterando o texto do cabeçalho com JavaScript\n",
        "Para alterar o texto do cabeçalho da sua página (elemento h1) para \"Bem-vindo ao mundo dev\" usando JavaScript, você pode utilizar o seguinte código:\n"
      ],
      "metadata": {
        "id": "6ZJu-rpziyid"
      }
    },
    {
      "cell_type": "code",
      "source": [
        "const headingElement = document.querySelector('h1'); // Seleciona o elemento h1\n",
        "headingElement.textContent = 'Bem-vindo ao mundo dev!'; // Altera o conteúdo de texto para \"Bem-vindo ao mundo dev!\"\n",
        "\n"
      ],
      "metadata": {
        "id": "L8B2rDkCi0Aj"
      },
      "execution_count": null,
      "outputs": []
    },
    {
      "cell_type": "markdown",
      "source": [
        "Explicação:\n",
        "\n",
        "document.querySelector('h1'): Este trecho seleciona o primeiro elemento h1 encontrado no documento HTML. Se você tiver vários elementos h1, precisará usar um seletor mais específico, como document.querySelector('#myHeader'), onde #myHeader é o ID do elemento h1 que você deseja alterar.\n",
        ".textContent = 'Bem-vindo ao mundo dev!': Esta linha define a propriedade textContent do elemento selecionado para \"Bem-vindo ao mundo dev!\". A propriedade textContent contém o texto bruto do elemento, sem formatação HTML.\n"
      ],
      "metadata": {
        "id": "Iy-9Gf5ri3t4"
      }
    },
    {
      "cell_type": "markdown",
      "source": [
        "Observações:\n",
        "\n",
        "Este código deve ser executado após o carregamento completo da página HTML. Você pode colocá-lo dentro de uma tag <script> no final do seu documento HTML ou dentro de um manipulador de eventos, como onload ou DOMContentLoaded.\n",
        "Se você deseja alterar o texto do cabeçalho com base em um evento específico, como um clique do usuário, precisará usar um manipulador de eventos para executar o código JavaScript.\n",
        "Você também pode usar a propriedade innerHTML para alterar o texto do cabeçalho, mas isso incluirá qualquer formatação HTML no texto. Por exemplo, se o seu elemento h1 contiver tags <strong> para formatar o texto em negrito, essas tags também serão alteradas quando você usar innerHTML."
      ],
      "metadata": {
        "id": "7VLP5fVrjBBS"
      }
    },
    {
      "cell_type": "code",
      "source": [
        "<!DOCTYPE html>\n",
        "<html>\n",
        "<head>\n",
        "  <title>Exemplo de alteração de cabeçalho</title>\n",
        "</head>\n",
        "<body>\n",
        "  <h1>Título original</h1>\n",
        "\n",
        "  <script>\n",
        "    const headingElement = document.querySelector('h1');\n",
        "    headingElement.textContent = 'Bem-vindo ao mundo dev!';\n",
        "  </script>\n",
        "</body>\n",
        "</html>\n"
      ],
      "metadata": {
        "id": "XPmSKlORjEvd"
      },
      "execution_count": null,
      "outputs": []
    },
    {
      "cell_type": "markdown",
      "source": [],
      "metadata": {
        "id": "47v8SHrXjHuu"
      }
    }
  ]
}