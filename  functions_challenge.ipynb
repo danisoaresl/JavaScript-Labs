{
  "nbformat": 4,
  "nbformat_minor": 0,
  "metadata": {
    "colab": {
      "private_outputs": true,
      "provenance": [],
      "authorship_tag": "ABX9TyPAPhYmRZF48/1VEFLmbqF+",
      "include_colab_link": true
    },
    "kernelspec": {
      "name": "python3",
      "display_name": "Python 3"
    },
    "language_info": {
      "name": "python"
    }
  },
  "cells": [
    {
      "cell_type": "markdown",
      "metadata": {
        "id": "view-in-github",
        "colab_type": "text"
      },
      "source": [
        "<a href=\"https://colab.research.google.com/github/danisoaresl/JavaScript-Mastery-Labs/blob/curso2/%20functions_challenge.ipynb\" target=\"_parent\"><img src=\"https://colab.research.google.com/assets/colab-badge.svg\" alt=\"Open In Colab\"/></a>"
      ]
    },
    {
      "cell_type": "code",
      "execution_count": null,
      "metadata": {
        "id": "T0XUvVswE_DS"
      },
      "outputs": [],
      "source": []
    },
    {
      "cell_type": "markdown",
      "source": [
        "Função que exibe \"Olá, mundo!\" no console:"
      ],
      "metadata": {
        "id": "vMjaMqWTE_7a"
      }
    },
    {
      "cell_type": "code",
      "source": [
        "def saudacao_mundo():\n",
        "    print(\"Olá, mundo!\")\n"
      ],
      "metadata": {
        "id": "G-UtdDTvFBBt"
      },
      "execution_count": null,
      "outputs": []
    },
    {
      "cell_type": "markdown",
      "source": [
        "Função que recebe um nome como parâmetro e exibe \"Olá, [nome]!\" no console:\n"
      ],
      "metadata": {
        "id": "KiZGK2Z1FFHt"
      }
    },
    {
      "cell_type": "code",
      "source": [
        "def saudacao_nome(nome):\n",
        "    print(f\"Olá, {nome}!\")\n"
      ],
      "metadata": {
        "id": "gBPVoOE6FK_4"
      },
      "execution_count": null,
      "outputs": []
    },
    {
      "cell_type": "markdown",
      "source": [
        "Função que recebe um número como parâmetro e retorna o dobro desse número:"
      ],
      "metadata": {
        "id": "nAh9rSq3FPmd"
      }
    },
    {
      "cell_type": "code",
      "source": [
        "def dobrar_numero(numero):\n",
        "    return numero * 2\n"
      ],
      "metadata": {
        "id": "h9SJS6rdFUmn"
      },
      "execution_count": null,
      "outputs": []
    },
    {
      "cell_type": "markdown",
      "source": [
        "Função que recebe três números como parâmetros e retorna a média deles:"
      ],
      "metadata": {
        "id": "5IBqc7qhFXnL"
      }
    },
    {
      "cell_type": "code",
      "source": [
        "def media_tres_numeros(num1, num2, num3):\n",
        "    return (num1 + num2 + num3) / 3\n"
      ],
      "metadata": {
        "id": "j2Vh_oOSFeRw"
      },
      "execution_count": null,
      "outputs": []
    },
    {
      "cell_type": "markdown",
      "source": [
        "Função que recebe dois números como parâmetros e retorna o maior deles:"
      ],
      "metadata": {
        "id": "Rk4mleMOFi9N"
      }
    },
    {
      "cell_type": "code",
      "source": [
        "def maior_numero(num1, num2):\n",
        "    return max(num1, num2)\n"
      ],
      "metadata": {
        "id": "AxlwvBtZFoeM"
      },
      "execution_count": null,
      "outputs": []
    },
    {
      "cell_type": "markdown",
      "source": [],
      "metadata": {
        "id": "k-eKY5beFrKx"
      }
    },
    {
      "cell_type": "markdown",
      "source": [
        "Função que recebe um número como parâmetro e retorna o resultado da multiplicação desse número por ele mesmo:"
      ],
      "metadata": {
        "id": "065pjjKwF7m6"
      }
    },
    {
      "cell_type": "code",
      "source": [
        "def quadrado_numero(numero):\n",
        "    return numero * numero\n"
      ],
      "metadata": {
        "id": "7yKhArjkF8dp"
      },
      "execution_count": null,
      "outputs": []
    },
    {
      "cell_type": "markdown",
      "source": [
        "Aqui estão exemplos de como utilizar cada uma dessas funções:"
      ],
      "metadata": {
        "id": "6sYubf_eGZcd"
      }
    },
    {
      "cell_type": "code",
      "source": [
        "# Chamando cada função para testar\n",
        "\n",
        "# Função 1: Exibindo \"Olá, mundo!\" no console\n",
        "saudacao_mundo()\n",
        "\n",
        "# Função 2: Exibindo \"Olá, [nome]!\" no console\n",
        "saudacao_nome(\"João\")\n",
        "\n",
        "# Função 3: Retornando o dobro de um número\n",
        "print(dobrar_numero(5))\n",
        "\n",
        "# Função 4: Retornando a média de três números\n",
        "print(media_tres_numeros(4, 8, 12))\n",
        "\n",
        "# Função 5: Retornando o maior de dois números\n",
        "print(maior_numero(7, 10))\n",
        "\n",
        "# Função 6: Retornando o quadrado de um número\n",
        "print(quadrado_numero(6))\n"
      ],
      "metadata": {
        "id": "Dxk41FZCGaNk"
      },
      "execution_count": null,
      "outputs": []
    }
  ]
}