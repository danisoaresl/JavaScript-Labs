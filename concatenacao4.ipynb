{
  "nbformat": 4,
  "nbformat_minor": 0,
  "metadata": {
    "colab": {
      "private_outputs": true,
      "provenance": [],
      "authorship_tag": "ABX9TyORxw1W7IdeadmKk3jB/Ibk",
      "include_colab_link": true
    },
    "kernelspec": {
      "name": "python3",
      "display_name": "Python 3"
    },
    "language_info": {
      "name": "python"
    }
  },
  "cells": [
    {
      "cell_type": "markdown",
      "metadata": {
        "id": "view-in-github",
        "colab_type": "text"
      },
      "source": [
        "<a href=\"https://colab.research.google.com/github/danisoaresl/JavaScript-Mastery-Labs/blob/logic_programming2/concatenacao4.ipynb\" target=\"_parent\"><img src=\"https://colab.research.google.com/assets/colab-badge.svg\" alt=\"Open In Colab\"/></a>"
      ]
    },
    {
      "cell_type": "code",
      "execution_count": null,
      "metadata": {
        "id": "rZ3GMpuyo7eN"
      },
      "outputs": [],
      "source": []
    },
    {
      "cell_type": "markdown",
      "source": [
        "Em média, um casal tem filhos quando atinge a idade de 28 anos. Seguindo essa média, se os portugueses chegaram em 1500 no Brasil, então, a primeira geração de brasileiros surgiu em 1528, a segunda em 1556 e assim por diante. Desde 1500 até o ano atual, quantas gerações se passaram?\n",
        "\n",
        "Vamos criar um programa para resolver a tarefa!\n",
        "\n",
        "Imprima esse número da seguinte maneira: calcule quantos anos passaram desde 1500 e divida o resultado pela média de 28 anos.\n",
        "\n"
      ],
      "metadata": {
        "id": "VA2zXXh8o8Tn"
      }
    },
    {
      "cell_type": "code",
      "source": [
        "<meta charset=\"UTF-8\">\n",
        "\n",
        "<script>\n",
        "  function pulaLinha() {\n",
        "    document.write(\"<br>\");\n",
        "  }\n",
        "\n",
        "  function mostra(frase) {\n",
        "    document.write(frase);\n",
        "    pulaLinha();\n",
        "  }\n",
        "  var idadeMediaQuandoTemFilhos = 28;\n",
        "  var anoAtual = 2016;\n",
        "  var quantidadeDeGeracoes = (anoAtual - 1500) / idadeMediaQuandoTemFilhos;\n",
        "  mostra(quantidadeDeGeracoes);\n",
        "</script>"
      ],
      "metadata": {
        "id": "JeSfC9Xfo9W-"
      },
      "execution_count": null,
      "outputs": []
    }
  ]
}